{
 "cells": [
  {
   "cell_type": "markdown",
   "source": [
    "#The following file consists of two programs: (1) calculating earnings surprise and (2) calculating the table means<br>\n",
    "Before each file I give an introduction and then explain the process"
   ],
   "metadata": {
    "collapsed": false
   }
  },
  {
   "cell_type": "markdown",
   "source": [
    "The first program generate earnings surprise in accordance to this WRDS SAS code<br>\n",
    "https://github.com/jblocher/sas_util/blob/master/esurprises.sas<br>\n",
    "Which is based on Livnat and Mendenhall (Journal of Accounting Research, Vol. 44, No.1, March 2006) (LM)<br>\n",
    "The code calculates earnings surprise as the median IBES analyst forecast, in the last 90 days prior to the earnings, less the Actual earnings figure.<br>\n",
    "It then merges it with Compustat date, and cleans it with accordance to LM for a more accurate sample<br>\n",
    "In a different file I deflate each surprise by price at the last mutual fund last holding report date prior to the earnings announcement.<br>\n",
    "I explain each step and what it does<br>\n",
    "\n"
   ],
   "metadata": {
    "collapsed": false
   }
  },
  {
   "cell_type": "markdown",
   "source": [
    "Load python packages - you can skip this step"
   ],
   "metadata": {
    "collapsed": false
   }
  },
  {
   "cell_type": "code",
   "execution_count": 1,
   "outputs": [],
   "source": [
    "import pandas as pd\n",
    "import re\n",
    "import numpy as np\n",
    "import math\n",
    "from datetime import datetime, timedelta\n",
    "import os\n",
    "import time\n",
    "import glob\n",
    "from scipy.stats import mstats\n",
    "\n",
    "pd.set_option('display.expand_frame_repr', False)\n",
    "#pd.set_option('display.max_colwidth', -1)\n",
    "# Reduce decimal points to 2\n",
    "pd.options.display.float_format = '{:,.4f}'.format\n",
    "\n",
    "#set my desired working directory\n",
    "os.chdir(\"/Users/ariel/Dropbox/PhD/Michael CSR/Analysis\")"
   ],
   "metadata": {
    "collapsed": false,
    "pycharm": {
     "name": "#%%\n",
     "is_executing": false
    }
   }
  },
  {
   "cell_type": "markdown",
   "source": [
    "Generate earnings surprise in accordance to https://github.com/jblocher/sas_util/blob/master/esurprises.sas<br>\n",
    "Based on Livnat and Mendenhall (Journal of Accounting Research, Vol. 44, No.1, March 2006)"
   ],
   "metadata": {
    "collapsed": false
   }
  },
  {
   "cell_type": "code",
   "execution_count": 2,
   "outputs": [],
   "source": [
    "#read ibes file\n",
    "ibes=pd.read_csv('Data/CRSP/IBES_consensus_actual_Q_2011_2019.csv')\n",
    "ibes=ibes.drop(columns=['TICKER','CNAME','CNAME','ANNTIMS_ACT']) #drop extra columns\n",
    "ibes=ibes.dropna(subset=['ANNDATS_ACT','ACTUAL']) #drop missing actuals\n",
    "ibes=ibes[ibes['FPI']==6] #keep quarterly reports - FPI = 6 the forecasts are made for the quarterly figures and are reported in the quarter before the publication of the quarterly report.\n"
   ],
   "metadata": {
    "collapsed": false,
    "pycharm": {
     "name": "#%%\n",
     "is_executing": false
    }
   }
  },
  {
   "cell_type": "markdown",
   "source": [
    "      Sample of the data and dictionary (I believe I have it all correctly):\n",
    "      CUSIP - firm identifier\n",
    "      ANALYS - analyst number\n",
    "      VALUE - one quarter ahead forecast\n",
    "      FPEDATS - end date of fiscal quarter the report is for   \n",
    "      ANNDATS - Analyst forecast announcemnt data  \n",
    "      ACTUAL - Actual earnings surprise\n",
    "      ANNDATS_ACT - Earnings announcemnt date"
   ],
   "metadata": {
    "collapsed": false
   }
  },
  {
   "cell_type": "code",
   "execution_count": 3,
   "outputs": [
    {
     "name": "stdout",
     "text": [
      "      CUSIP  ESTIMATOR  ANALYS  FPI MEASURE  VALUE   FPEDATS   ANNDATS  ACTUAL     ANNDATS_ACT\n",
      "1  87482X10      51308  548311    6     EPS 0.3000  20140331  20140309  0.1200 20,140,506.0000\n",
      "2  87482X10        952   50789    6     EPS 0.2300  20140331  20140310  0.1200 20,140,506.0000\n",
      "3  87482X10        228   80474    6     EPS 0.3500  20140331  20140310  0.1200 20,140,506.0000\n",
      "4  87482X10      51243  603896    6     EPS 0.3700  20140331  20140310  0.1200 20,140,506.0000\n",
      "5  87482X10      50659  538750    6     EPS 0.4100  20140331  20140317  0.1200 20,140,506.0000\n"
     ],
     "output_type": "stream"
    }
   ],
   "source": [
    "print(ibes.head())"
   ],
   "metadata": {
    "collapsed": false,
    "pycharm": {
     "name": "#%%\n",
     "is_executing": false
    }
   }
  },
  {
   "cell_type": "code",
   "execution_count": 4,
   "outputs": [],
   "source": [
    "#keep only latest analyst report per firm\n",
    "ibes=ibes.drop_duplicates(subset=['CUSIP','ANALYS','FPEDATS'],keep='last')\n",
    "\n",
    "#change date format\n",
    "ibes['FPEDATS']=pd.to_datetime(ibes['FPEDATS'],format='%Y%m%d')\n",
    "ibes['ANNDATS_ACT']=pd.to_datetime(ibes['ANNDATS_ACT'],format='%Y%m%d')\n",
    "ibes['ANNDATS']=pd.to_datetime(ibes['ANNDATS'],format='%Y%m%d')\n",
    "\n",
    "#calculate date between forecast and acutal report\n",
    "ibes['forecast_days']=(ibes['ANNDATS_ACT']-ibes['ANNDATS']).dt.days\n",
    "\n",
    "#take only forecasts made within 90 days\n",
    "ibes=ibes[(ibes['forecast_days']>0) & (ibes['forecast_days']<=90)]\n",
    "\n",
    "#drop if number of analyst is forecasting is less than 3 per fiscal date\n",
    "ibes=ibes.groupby(['CUSIP','FPEDATS']).filter(lambda x: len(x) > 3)\n",
    "\n",
    "#take the median forecast, grouping by firm, fiscal date, announcment date, fiscal period \n",
    "ibes=ibes.groupby(['CUSIP','FPEDATS','ANNDATS_ACT','ACTUAL'])['VALUE'].median().reset_index()\n",
    "\n",
    "#drop any duplicate firm-earnings_quarter_reports, keep the last one, which is the most updated - also possible to drop both, changes very little\n",
    "ibes=ibes.drop_duplicates(subset=['CUSIP','FPEDATS'],keep='last')"
   ],
   "metadata": {
    "collapsed": false,
    "pycharm": {
     "name": "#%%\n",
     "is_executing": false
    }
   }
  },
  {
   "cell_type": "markdown",
   "source": [
    "At this point we have analyst forecast and actual.<br>\n",
    "Now we merge with Compustat to get share price and other cleaning factors according to LM<br>\n",
    "we are left with fiscal quarter end date, Actual earning report date, the actual earnings figure, and the median forecast ('Value').<br>\n",
    "(any problems with CUSIPS such as only zeros, or names will be dropped next when we merge it with Compustat based on the earnings report date).<br>"
   ],
   "metadata": {
    "collapsed": false,
    "pycharm": {
     "name": "#%% md\n"
    }
   }
  },
  {
   "cell_type": "code",
   "execution_count": 5,
   "outputs": [
    {
     "name": "stdout",
     "text": [
      "      CUSIP    FPEDATS ANNDATS_ACT  ACTUAL  VALUE\n",
      "0  00000000 2017-11-30  2018-01-23  0.0900 0.1160\n",
      "2  00000000 2017-12-31  2018-03-08  0.7200 0.6150\n",
      "5  00000000 2018-03-31  2018-05-29  0.7100 0.5600\n",
      "6  00030710 2015-09-30  2015-10-27  0.2400 0.1600\n",
      "7  00030710 2016-03-31  2016-05-05  0.2000 0.1600\n"
     ],
     "output_type": "stream"
    }
   ],
   "source": [
    "print(ibes.head())"
   ],
   "metadata": {
    "collapsed": false,
    "pycharm": {
     "name": "#%%\n",
     "is_executing": false
    }
   }
  },
  {
   "cell_type": "code",
   "execution_count": 6,
   "outputs": [],
   "source": [
    "ibes['ANNDATS_ACT']=pd.to_datetime(ibes['ANNDATS_ACT'],format='%Y-%m-%d')#transform to date\n",
    "\n",
    "compustat=pd.read_csv('Data/CRSP/CRSP_Compustat_Earning_Date_Querterly_2010_2020.csv') #load compustat\n",
    "compustat['rdq']=pd.to_datetime(compustat['rdq'],format='%Y%m%d') #change date format\n",
    "compustat['cusip'] = compustat['cusip'].str[:-1]#adjust CUSIP to 8 digits\n",
    "compustat=compustat.dropna(subset=['rdq']) #drop missing earnings date\n",
    "\n",
    "#merge  IBES with compustat\n",
    "ibes_compustat=pd.merge(left=ibes,right=compustat,left_on=['ANNDATS_ACT','CUSIP'],right_on=['rdq','cusip'],how='left').dropna(subset=['cusip'])\n",
    "\n",
    "#create market cap\n",
    "ibes_compustat['mcap']=ibes_compustat['prccq']*ibes_compustat['cshoq'] #shares outstanding times share price\n",
    "\n",
    "#filter from LM (2006):\n",
    "ibes_compustat=ibes_compustat[(ibes_compustat.saleq>0)&(ibes_compustat.atq>0)&(ibes_compustat.fyr>0)&(ibes_compustat.prccq>1)&(ibes_compustat.mcap>5.0)].dropna(subset=['datafqtr'])\n",
    "\n",
    "# we calculate the subsequent earnings surprise, which we calculate as the IBES actual EPS minus the most recent IBES consensus EPS scaled the latest fund report date share price (This is done a different file)\n",
    "ibes_compustat['e_surprise_non_deflated']=(ibes_compustat['ACTUAL']-ibes_compustat['VALUE'])\n",
    "\n",
    "#keep only relevant variables\n",
    "ibes_compustat=ibes_compustat[['cusip','gvkey','FPEDATS','fyearq','fqtr','fyr','datafqtr','rdq','atq','saleq','prccq','mcap','e_surprise_non_deflated']]"
   ],
   "metadata": {
    "collapsed": false,
    "pycharm": {
     "name": "#%%\n",
     "is_executing": false
    }
   }
  },
  {
   "cell_type": "markdown",
   "source": [
    "Finally we get the non-deflaed earnings surprise. <br>\n",
    "where rdq is earnings report date.<br>\n",
    "As mentioned, I deflate by price at the last fund report date prior to the eanrings report  - which is the end of the month previous to rdq. This is done in a different file, <br>\n",
    "once I merge it with the holding report (The main reason is efficiency, because in order to have the price for the earnings report, I need to download the WHOLE CRSP daily file for a  about 8 years, which is extremely large. Once I merge this file with the holdings, it is then much more efficient to calculate this, since I have an exact list of stocks that meet the criteria)"
   ],
   "metadata": {
    "collapsed": false
   }
  },
  {
   "cell_type": "code",
   "source": [
    "print(ibes_compustat.head())"
   ],
   "metadata": {
    "collapsed": false,
    "pycharm": {
     "name": "#%% \n",
     "is_executing": false
    }
   },
   "execution_count": 7,
   "outputs": [
    {
     "name": "stdout",
     "text": [
      "      cusip        gvkey    FPEDATS     fyearq   fqtr     fyr datafqtr        rdq        atq    saleq   prccq     mcap  e_surprise_non_deflated\n",
      "3  00030710 178,698.0000 2015-09-30 2,015.0000 3.0000 12.0000   2015Q3 2015-10-27   290.9110  57.3720 22.2500 498.5557                   0.0800\n",
      "4  00030710 178,698.0000 2016-03-31 2,016.0000 1.0000 12.0000   2016Q1 2016-05-05   314.9950  65.3480 19.7900 454.5565                   0.0400\n",
      "5  00030710 178,698.0000 2016-09-30 2,016.0000 3.0000 12.0000   2016Q3 2016-11-03   380.3420  70.5280 17.3900 412.2473                  -0.0350\n",
      "6  00030710 178,698.0000 2017-03-31 2,017.0000 1.0000 12.0000   2017Q1 2017-05-03   396.6220  73.0390  8.5300 205.3683                   0.0500\n",
      "7  00036110   1,004.0000 2011-08-31 2,011.0000 1.0000  5.0000   2011Q1 2011-09-15 1,752.3720 485.5000 23.5900 954.4750                  -0.0497\n"
     ],
     "output_type": "stream"
    }
   ]
  },
  {
   "cell_type": "markdown",
   "source": [
    "#This is the second program . Here I calculate means for the tables based on Kyungran 2013.\n",
    "First, for each mutual fund-report date combination, we calculate the average equal-weighted earnings surprise for stocks in each trading category. This procedure results in one mutual fund average earnings surprise per trading category per report date. Meanings, I have for each mutual-fund an avergae per report date (mutual-fund-report-date avergae).<br>\n",
    "Second, for each calendar quarter, we calculate the equal- weighted average of the mutual fund average earnings surprises by trading category for all report dates that fall in that quarter.<br>\n",
    "Finally, to calculate yearly averages, we average across the four quarterly observations within each calendar year for each trading category<br>\n",
    "trading categories are esg increase/decrease/first buys/least sales and non-esg increase/decrease/first buys/least sales\n",
    "    "
   ],
   "metadata": {
    "collapsed": false
   }
  },
  {
   "cell_type": "code",
   "source": [
    "def e_surprise_function(df):  \n",
    "    df['e_surprise'] = mstats.winsorize(df['e_surprise'], limits=0.01) #winsorize earnings surprise per trade category\n",
    "    df['e_report_mean'] = df.groupby(['crsp_portno','report_dt', 'esg_flag'])['e_surprise'].transform('mean') #take first mean\n",
    "    df.drop_duplicates(subset=['crsp_portno','report_dt', 'esg_flag'],inplace=True)\n",
    "    df['e_q_mean'] = df.groupby(['quarter_of_report_date', 'esg_flag'])['e_report_mean'].transform('mean') #take second mean\n",
    "    df.drop_duplicates(subset=['quarter_of_report_date', 'esg_flag'],inplace=True)\n",
    "    df['e_y_mean']=df.groupby(['year_of_report_date', 'esg_flag'])['e_q_mean'].transform('mean') #Take last mean\n",
    "    "
   ],
   "metadata": {
    "collapsed": false,
    "pycharm": {
     "name": "#%%\n",
     "is_executing": false
    }
   },
   "execution_count": 8,
   "outputs": []
  }
 ],
 "metadata": {
  "kernelspec": {
   "display_name": "Python 3",
   "language": "python",
   "name": "python3"
  },
  "language_info": {
   "codemirror_mode": {
    "name": "ipython",
    "version": 2
   },
   "file_extension": ".py",
   "mimetype": "text/x-python",
   "name": "python",
   "nbconvert_exporter": "python",
   "pygments_lexer": "ipython2",
   "version": "2.7.6"
  },
  "pycharm": {
   "stem_cell": {
    "cell_type": "raw",
    "source": [],
    "metadata": {
     "collapsed": false
    }
   }
  }
 },
 "nbformat": 4,
 "nbformat_minor": 0
}