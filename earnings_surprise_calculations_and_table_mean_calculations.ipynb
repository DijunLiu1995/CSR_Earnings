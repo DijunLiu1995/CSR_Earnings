{
 "cells": [
  {
   "cell_type": "markdown",
   "source": [
    "# The following file consists of two programs: (1) calculating earnings surprise and (2) calculating the table means\n",
    "# Before each file I give an introduction and then explain the process"
   ],
   "metadata": {
    "collapsed": false
   }
  },
  {
   "cell_type": "markdown",
   "source": [
    "#The first program generate earnings surprise in accordance to this WRDS SAS code\n",
    "#https://github.com/jblocher/sas_util/blob/master/esurprises.sas\n",
    "#Which is based on Livnat and Mendenhall (Journal of Accounting Research, Vol. 44, No.1, March 2006) (LM)\n",
    "#The code calculates earnings surprise as the median IBES analyst forecast, in the last 90 days prior to the earnings, less the Actual earnings figure.\n",
    "#It then merges it with Compustat date, and cleans it with accordance to LM for a more accurate sample\n",
    "#In a different file I deflate each surprise by price at the last mutual fund last holding report date prior to the earnings announcement.\n",
    "#I explain each step and what it does\n",
    "\n"
   ],
   "metadata": {
    "collapsed": false
   }
  },
  {
   "cell_type": "markdown",
   "source": [
    "Load python packages - you can skip this step"
   ],
   "metadata": {
    "collapsed": false
   }
  },
  {
   "cell_type": "code",
   "execution_count": null,
   "outputs": [],
   "source": [
    "import pandas as pd\n",
    "import re\n",
    "import numpy as np\n",
    "import math\n",
    "from datetime import datetime, timedelta\n",
    "import os\n",
    "import time\n",
    "import glob\n",
    "from scipy.stats import mstats\n",
    "\n",
    "pd.set_option('display.expand_frame_repr', False)\n",
    "#pd.set_option('display.max_colwidth', -1)\n",
    "# Reduce decimal points to 2\n",
    "pd.options.display.float_format = '{:,.4f}'.format\n",
    "\n",
    "#set my desired working directory\n",
    "os.chdir(\"/Users/ariel/Dropbox/PhD/Michael CSR/Analysis\")"
   ],
   "metadata": {
    "collapsed": false,
    "pycharm": {
     "name": "#%%\n",
     "is_executing": true
    }
   }
  },
  {
   "cell_type": "markdown",
   "source": [
    "#Generate earnings surprise in accordance to https://github.com/jblocher/sas_util/blob/master/esurprises.sas\n",
    "#Based on Livnat and Mendenhall (Journal of Accounting Research, Vol. 44, No.1, March 2006)"
   ],
   "metadata": {
    "collapsed": false
   }
  },
  {
   "cell_type": "code",
   "execution_count": null,
   "outputs": [],
   "source": [
    "#read ibes file\n",
    "ibes=pd.read_csv('Data/CRSP/IBES_consensus_actual_Q_2011_2019.csv')\n",
    "ibes=ibes.drop(columns=['TICKER','CNAME','CNAME','ANNTIMS_ACT']) #drop extra columns\n",
    "ibes=ibes.dropna(subset=['ANNDATS_ACT','ACTUAL']) #drop missing actuals\n",
    "ibes=ibes[ibes['FPI']==6] #keep quarterly reports - FPI = 6 the forecasts are made for the quarterly figures and are reported in the quarter before the publication of the quarterly report.\n"
   ],
   "metadata": {
    "collapsed": false,
    "pycharm": {
     "name": "#%%\n",
     "is_executing": true
    }
   }
  },
  {
   "cell_type": "markdown",
   "source": [
    "      Sample of the data and dictionary (I believe I have it all correctly):\n",
    "      CUSIP - firm identifier\n",
    "      ANALYS - analyst number\n",
    "      VALUE - one quarter ahead forecast\n",
    "      FPEDATS - end date of fiscal quarter the report is for   \n",
    "      ANNDATS - Analyst forecast announcemnt data  \n",
    "      ACTUAL - Actual earnings surprise\n",
    "      ANNDATS_ACT - Earnings announcemnt date"
   ],
   "metadata": {
    "collapsed": false
   }
  },
  {
   "cell_type": "code",
   "execution_count": null,
   "outputs": [],
   "source": [
    "print(ibes.head())"
   ],
   "metadata": {
    "collapsed": false,
    "pycharm": {
     "name": "#%%\n",
     "is_executing": true
    }
   }
  },
  {
   "cell_type": "code",
   "execution_count": null,
   "outputs": [],
   "source": [
    "#keep only latest analyst report per firm\n",
    "ibes=ibes.drop_duplicates(subset=['CUSIP','ANALYS','FPEDATS'],keep='last')\n",
    "\n",
    "#change date format\n",
    "ibes['FPEDATS']=pd.to_datetime(ibes['FPEDATS'],format='%Y%m%d')\n",
    "ibes['ANNDATS_ACT']=pd.to_datetime(ibes['ANNDATS_ACT'],format='%Y%m%d')\n",
    "ibes['ANNDATS']=pd.to_datetime(ibes['ANNDATS'],format='%Y%m%d')\n",
    "\n",
    "#calculate date between forecast and acutal report\n",
    "ibes['forecast_days']=(ibes['ANNDATS_ACT']-ibes['ANNDATS']).dt.days\n",
    "\n",
    "#take only forecasts made within 90 days\n",
    "ibes=ibes[(ibes['forecast_days']>0) & (ibes['forecast_days']<=90)]\n",
    "\n",
    "#drop if number of analyst is forecasting is less than 3 per fiscal date\n",
    "ibes=ibes.groupby(['CUSIP','FPEDATS']).filter(lambda x: len(x) > 3)\n",
    "\n",
    "#take the median forecast, grouping by firm, fiscal date, announcment date, fiscal period \n",
    "ibes=ibes.groupby(['CUSIP','FPEDATS','ANNDATS_ACT','ACTUAL'])['VALUE'].median().reset_index()\n",
    "\n",
    "#drop any duplicate firm-earnings_quarter_reports, keep the last one, which is the most updated - also possible to drop both, changes very little\n",
    "ibes=ibes.drop_duplicates(subset=['CUSIP','FPEDATS'],keep='last')"
   ],
   "metadata": {
    "collapsed": false,
    "pycharm": {
     "name": "#%%\n",
     "is_executing": true
    }
   }
  },
  {
   "cell_type": "markdown",
   "source": [
    "#At this point we have analyst forecast and actual.\n",
    "#Now we merge with Compustat to get share price and other cleaning factors according to LM\n",
    "#we are left with fiscal quarter end date, Actual earning report date, the actual earnings figure, and the median forecast ('Value').\n",
    "#(any problems with CUSIPS such as only zeros, or names will be dropped next when we merge it with Compustat based on the earnings report date)."
   ],
   "metadata": {
    "collapsed": false,
    "pycharm": {
     "name": "#%% md\n"
    }
   }
  },
  {
   "cell_type": "code",
   "execution_count": null,
   "outputs": [],
   "source": [
    "print(ibes.head())"
   ],
   "metadata": {
    "collapsed": false,
    "pycharm": {
     "name": "#%%\n",
     "is_executing": true
    }
   }
  },
  {
   "cell_type": "code",
   "execution_count": null,
   "outputs": [],
   "source": [
    "ibes['ANNDATS_ACT']=pd.to_datetime(ibes['ANNDATS_ACT'],format='%Y-%m-%d')#transform to date\n",
    "\n",
    "compustat=pd.read_csv('Data/CRSP/CRSP_Compustat_Earning_Date_Querterly_2010_2020.csv') #load compustat\n",
    "compustat['rdq']=pd.to_datetime(compustat['rdq'],format='%Y%m%d') #change date format\n",
    "compustat['cusip'] = compustat['cusip'].str[:-1]#adjust CUSIP to 8 digits\n",
    "compustat=compustat.dropna(subset=['rdq']) #drop missing earnings date\n",
    "\n",
    "#merge  IBES with compustat\n",
    "ibes_compustat=pd.merge(left=ibes,right=compustat,left_on=['ANNDATS_ACT','CUSIP'],right_on=['rdq','cusip'],how='left').dropna(subset=['cusip'])\n",
    "\n",
    "#create market cap\n",
    "ibes_compustat['mcap']=ibes_compustat['prccq']*ibes_compustat['cshoq'] #shares outstanding times share price\n",
    "\n",
    "#filter from LM (2006):\n",
    "ibes_compustat=ibes_compustat[(ibes_compustat.saleq>0)&(ibes_compustat.atq>0)&(ibes_compustat.fyr>0)&(ibes_compustat.prccq>1)&(ibes_compustat.mcap>5.0)].dropna(subset=['datafqtr'])\n",
    "\n",
    "# we calculate the subsequent earnings surprise, which we calculate as the IBES actual EPS minus the most recent IBES consensus EPS scaled the latest fund report date share price (This is done a different file)\n",
    "ibes_compustat['e_surprise_non_deflated']=(ibes_compustat['ACTUAL']-ibes_compustat['VALUE'])\n",
    "\n",
    "#keep only relevant variables\n",
    "ibes_compustat=ibes_compustat[['cusip','gvkey','FPEDATS','fyearq','fqtr','fyr','datafqtr','rdq','atq','saleq','prccq','mcap','e_surprise_non_deflated']]"
   ],
   "metadata": {
    "collapsed": false,
    "pycharm": {
     "name": "#%%\n",
     "is_executing": true
    }
   }
  },
  {
   "cell_type": "markdown",
   "source": [
    "#Finally we get the non-deflaed earnings surprise. \n",
    "#where rdq is earnings report date.\n",
    "#As mentioned, I deflate by price at the last fund report date prior to the eanrings report  - which is the end of the month previous to rdq. This is done in a different file, \n",
    "#once I merge it with the holding report (The main reason is efficiency, because in order to have the price for the earnings report, I need to download the WHOLE CRSP daily file for a  about 8 years, which is extremely large. Once I merge this file with the holdings, it is then much more efficient to calculate this, since I have an exact list of stocks that meet the criteria)"
   ],
   "metadata": {
    "collapsed": false
   }
  },
  {
   "cell_type": "code",
   "source": [
    "print(ibes_compustat.head())"
   ],
   "metadata": {
    "collapsed": false,
    "pycharm": {
     "name": "#%% \n",
     "is_executing": true
    }
   },
   "execution_count": null,
   "outputs": []
  },
  {
   "cell_type": "markdown",
   "source": [
    "# This is the second program . Here I calculate means for the tables based on Kyungran 2013.\n",
    "#First, for each mutual fund-report date combination, we calculate the average equal-weighted earnings surprise for stocks in each trading category. This procedure results in one mutual fund average earnings surprise per trading category per report date. Meanings, I have for each mutual-fund an avergae per report date (mutual-fund-report-date avergae).\n",
    "#Second, for each calendar quarter, we calculate the equal- weighted average of the mutual fund average earnings surprises by trading category for all report dates that fall in that quarter.\n",
    "#Finally, to calculate yearly averages, we average across the four quarterly observations within each calendar year for each trading category\n",
    "#trading categories are esg increase/decrease/first buys/least sales and non-esg increase/decrease/first buys/least sales\n",
    "    "
   ],
   "metadata": {
    "collapsed": false
   }
  },
  {
   "cell_type": "code",
   "source": [
    "def e_surprise_function(df):  \n",
    "    df['e_surprise'] = mstats.winsorize(df['e_surprise'], limits=0.01) #winsorize earnings surprise per trade category\n",
    "    df['e_report_mean'] = df.groupby(['crsp_portno','report_dt', 'esg_flag'])['e_surprise'].transform('mean') #take first mean\n",
    "    df.drop_duplicates(subset=['crsp_portno','report_dt', 'esg_flag'],inplace=True)\n",
    "    df['e_q_mean'] = df.groupby(['quarter_of_report_date', 'esg_flag'])['e_report_mean'].transform('mean') #take second mean\n",
    "    df.drop_duplicates(subset=['quarter_of_report_date', 'esg_flag'],inplace=True)\n",
    "    df['e_y_mean']=df.groupby(['year_of_report_date', 'esg_flag'])['e_q_mean'].transform('mean') #Take last mean\n",
    "    "
   ],
   "metadata": {
    "collapsed": false,
    "pycharm": {
     "name": "#%%\n",
     "is_executing": true
    }
   },
   "execution_count": null,
   "outputs": []
  }
 ],
 "metadata": {
  "kernelspec": {
   "display_name": "Python 3",
   "language": "python",
   "name": "python3"
  },
  "language_info": {
   "codemirror_mode": {
    "name": "ipython",
    "version": 2
   },
   "file_extension": ".py",
   "mimetype": "text/x-python",
   "name": "python",
   "nbconvert_exporter": "python",
   "pygments_lexer": "ipython2",
   "version": "2.7.6"
  },
  "pycharm": {
   "stem_cell": {
    "cell_type": "raw",
    "source": [],
    "metadata": {
     "collapsed": false
    }
   }
  }
 },
 "nbformat": 4,
 "nbformat_minor": 0
}