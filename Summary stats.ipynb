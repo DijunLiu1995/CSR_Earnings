{
 "cells": [
  {
   "cell_type": "markdown",
   "metadata": {},
   "source": [
    "Below are some Summary stat:"
   ]
  },
  {
   "cell_type": "markdown",
   "metadata": {},
   "source": [
    "| |  Observations |\n",
    "| --- | --- |\n",
    "| Fund-Quarter-share Observations Overall | 1,807,845 |\n",
    "| Unique Funds Overall  | 1,469 |\n",
    "| Fund-Quarter-share CSR-Fund Observations Overall  | 221,160 | \n",
    "| Unique CSR-Funds  | 572 |\n",
    "| number of fund-quarter-share  observations  per year |  |\n",
    "| 2012 | 82,363 | |\n",
    "| 2013 | 184,373 | |\n",
    "| 2014 | 184,694 | |\n",
    "| 2015 | 211,009 | |\n",
    "| 2016 | 294,732 | |\n",
    "| 2017 | 360,984 | |\n",
    "| 2018 | 384,217 | |\n",
    "| 2019 | 105,473 | |\n",
    "| number of csr fund-quarter-share per year|  |\n",
    "| 2012 | 10,601 | |\n",
    "| 2013 | 25,178 | |\n",
    "| 2014 | 24,002 | |\n",
    "| 2015 | 26,090 | |\n",
    "| 2016 | 37,062 | |\n",
    "| 2017 | 44,202 | |\n",
    "| 2018 | 42,548 | |\n",
    "| 2019 | 11,477 | |\n",
    "| number of unique funds per year |  |\n",
    "| 2012 | 859 | |\n",
    "| 2013 | 928 | |\n",
    "| 2014 | 939 | |\n",
    "| 2015 | 974 | |\n",
    "| 2016 | 1,352 | |\n",
    "| 2017 | 1,395 | |\n",
    "| 2018 | 1,426 | |\n",
    "| 2019 | 1,368 | |\n",
    "| number of unique csr-funds per year |  |\n",
    "| 2012 | 135 | |\n",
    "| 2013 | 212 | |\n",
    "| 2014 | 221 | |\n",
    "| 2015 | 233 | |\n",
    "| 2016 | 328 | |\n",
    "| 2017 | 314 | |\n",
    "| 2018 | 290 | |\n",
    "| 2019 | 210 | |"
   ]
  },
  {
   "cell_type": "markdown",
   "metadata": {},
   "source": [
    "| Fund Cleaning data process (sample period 2013-2019)| Number of Unique Funds |\n",
    "| --- | --- |\n",
    "| Morningstar funds found in CRSP  | 3,151 |\n",
    "| After merging with holding earning report data (file 5)  | 1,706 |\n",
    "| Merging with avilable ESG score     | 1,582 (621 ESG) | \n",
    "| Final cleaning (control for fund size)  | 1,469 (572 ESG) |\n"
   ]
  },
  {
   "cell_type": "markdown",
   "metadata": {},
   "source": [
    "|  | Mean | Min | Max | Std |Median|\n",
    "| --- | --- |--- |--- |--- |--- |\n",
    "| Fund Size stats (TNA in millions) | 2,365 | 15.2 | 103,014 | 7,732 |478|\n",
    "| Fund Life (in years) | 19.025 | 0.836 | 95.526 | 14.755 |17.679|\n",
    "| Fund turn-ratio| 0.65  | 0.03 | 4.11 | 0.618 |0.47|\n",
    "| Fund exp-ratio| 0.011  | 0.002 | 0.023 | 0.004 |0.011|\n",
    "\n",
    "\n"
   ]
  },
  {
   "cell_type": "markdown",
   "metadata": {},
   "source": []
  },
  {
   "cell_type": "markdown",
   "metadata": {},
   "source": [
    "\n"
   ]
  },
  {
   "cell_type": "markdown",
   "metadata": {},
   "source": []
  }
 ],
 "metadata": {
  "kernelspec": {
   "display_name": "Python 3",
   "language": "python",
   "name": "python3"
  },
  "language_info": {
   "codemirror_mode": {
    "name": "ipython",
    "version": 3
   },
   "file_extension": ".py",
   "mimetype": "text/x-python",
   "name": "python",
   "nbconvert_exporter": "python",
   "pygments_lexer": "ipython3",
   "version": "3.7.4"
  }
 },
 "nbformat": 4,
 "nbformat_minor": 2
}
