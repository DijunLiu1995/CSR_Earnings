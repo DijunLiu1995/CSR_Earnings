{
 "cells": [
  {
   "cell_type": "code",
   "execution_count": 10,
   "metadata": {
    "collapsed": true,
    "pycharm": {
     "is_executing": false
    }
   },
   "outputs": [],
   "source": [
    "import pandas as pd\n",
    "import re\n",
    "import numpy as np\n",
    "import math\n",
    "from datetime import datetime, timedelta\n",
    "import os\n",
    "import time\n",
    "import glob\n",
    "\n",
    "pd.set_option('display.expand_frame_repr', False)\n",
    "#pd.set_option('display.max_colwidth', -1)\n",
    "# Reduce decimal points to 2\n",
    "pd.options.display.float_format = '{:,.4f}'.format"
   ]
  },
  {
   "cell_type": "code",
   "execution_count": 11,
   "outputs": [],
   "source": [
    "#set my desired working directory\n",
    "os.chdir(\"/Users/ariel/Dropbox/PhD/Michael CSR/Analysis\")"
   ],
   "metadata": {
    "collapsed": false,
    "pycharm": {
     "name": "#%%\n",
     "is_executing": false
    }
   }
  },
  {
   "cell_type": "code",
   "execution_count": 12,
   "outputs": [
    {
     "name": "stdout",
     "text": [
      "                 Name  fund_cusip            Global Category  portfolio_score_date  portfolio_score  crsp_fundno    crsp_portno\n",
      "0   Invesco Charter A      141310  US Equity Large Cap Blend                201209          51.4100   2,899.0000 1,022,003.0000\n",
      "1   Invesco Charter A      141310  US Equity Large Cap Blend                201212          50.9000   2,899.0000 1,022,003.0000\n",
      "2   Invesco Charter A      141310  US Equity Large Cap Blend                201303          51.0100   2,899.0000 1,022,003.0000\n",
      "3   Invesco Charter A      141310  US Equity Large Cap Blend                201306          51.4400   2,899.0000 1,022,003.0000\n",
      "4   Invesco Charter A      141310  US Equity Large Cap Blend                201309          49.9600   2,899.0000 1,022,003.0000\n",
      "5   Invesco Charter A      141310  US Equity Large Cap Blend                201312          50.6100   2,899.0000 1,022,003.0000\n",
      "6   Invesco Charter A      141310  US Equity Large Cap Blend                201403          53.7100   2,899.0000 1,022,003.0000\n",
      "7   Invesco Charter A      141310  US Equity Large Cap Blend                201406          51.6900   2,899.0000 1,022,003.0000\n",
      "8   Invesco Charter A      141310  US Equity Large Cap Blend                201409          51.2000   2,899.0000 1,022,003.0000\n",
      "9   Invesco Charter A      141310  US Equity Large Cap Blend                201412          52.4900   2,899.0000 1,022,003.0000\n",
      "10  Invesco Charter A      141310  US Equity Large Cap Blend                201503          52.5700   2,899.0000 1,022,003.0000\n",
      "11  Invesco Charter A      141310  US Equity Large Cap Blend                201506          52.2000   2,899.0000 1,022,003.0000\n",
      "12  Invesco Charter A      141310  US Equity Large Cap Blend                201509          51.2700   2,899.0000 1,022,003.0000\n",
      "13  Invesco Charter A      141310  US Equity Large Cap Blend                201512          50.9500   2,899.0000 1,022,003.0000\n",
      "14  Invesco Charter A      141310  US Equity Large Cap Blend                201603          50.5300   2,899.0000 1,022,003.0000\n",
      "15  Invesco Charter A      141310  US Equity Large Cap Blend                201606          50.4900   2,899.0000 1,022,003.0000\n",
      "16  Invesco Charter A      141310  US Equity Large Cap Blend                201609          50.0100   2,899.0000 1,022,003.0000\n",
      "17  Invesco Charter A      141310  US Equity Large Cap Blend                201612          49.9600   2,899.0000 1,022,003.0000\n",
      "18  Invesco Charter A      141310  US Equity Large Cap Blend                201703          49.4000   2,899.0000 1,022,003.0000\n",
      "19  Invesco Charter A      141310  US Equity Large Cap Blend                201706          49.4000   2,899.0000 1,022,003.0000\n"
     ],
     "output_type": "stream"
    }
   ],
   "source": [
    "#load time series of fund sustanability\n",
    "fund_sust=pd.read_csv('Jupyter/fund_sust.csv')\n",
    "fund_sust=fund_sust.drop(columns=['Unnamed: 0'])\n",
    "print(fund_sust)"
   ],
   "metadata": {
    "collapsed": false,
    "pycharm": {
     "name": "#%%\n",
     "is_executing": false
    }
   }
  },
  {
   "cell_type": "code",
   "execution_count": 13,
   "outputs": [
    {
     "name": "stdout",
     "text": [
      "    Unnamed: 0  crsp_portno     cusip     FPEDATS         rdq         atq      saleq   prccq        mcap  e_surprise  change_nbr_shares_total_before_e_annc    cret     car\n",
      "0            0      1000045  00101J10  2013-03-31  2013-05-01  9,710.0000   821.0000 48.9400 10,763.9125     -0.0004                            -3,048.0000 -0.0273 -0.0267\n",
      "1            1      1000045  00101J10  2013-06-30  2013-07-31  9,655.0000   833.0000 39.8500  8,471.5122      0.0023                           206,425.0000 -0.0343 -0.0495\n",
      "2            2      1000045  00101J10  2013-09-30  2013-11-20  9,913.0000   846.0000 40.6600  8,497.1675     -0.0002                           621,075.0000  0.0136  0.0101\n",
      "3            3      1000045  00101J10  2013-12-31  2014-01-30  9,875.0000   839.0000 40.4700  7,416.7345     -0.0015                          -123,419.0000 -0.2153 -0.2200\n",
      "4            4      1000045  00101J10  2014-03-31  2014-04-30 10,147.0000   837.0000 29.9500  5,304.4744      0.0017                          -511,742.0000  0.0340  0.0244\n",
      "5            5      1000045  00101J10  2014-06-30  2014-07-30 10,133.0000   849.0000 34.9400  6,078.1973      0.0023                        -1,437,930.0000  0.0507  0.0733\n",
      "6            6      1000045  00282410  2012-03-31  2012-04-18 62,415.8010 5,283.6850 61.2900 96,433.1957      0.0007                           -90,630.0000 -0.0057 -0.0110\n",
      "7            7      1000045  00289620  2013-10-31  2013-11-21  2,852.3960 1,033.2930 37.4800  2,863.2846      0.0003                           540,522.0000 -0.0293 -0.0408\n",
      "8            8      1000045  00289620  2014-04-30  2014-05-29  2,566.3930   822.4280 36.7600  2,675.2090      0.0005                           383,493.0000  0.0368  0.0340\n",
      "9            9      1000045  00289620  2014-07-31  2014-08-28  2,563.1760   890.6050 39.3400  2,807.4204      0.0018                           -29,060.0000 -0.0631 -0.0659\n",
      "10          10      1000045  00289620  2014-10-31  2014-12-03  2,575.5690   911.4530 33.4800  2,321.3693      0.0003                          -857,318.0000 -0.0089 -0.0172\n",
      "11          11      1000045  00724F10  2013-05-31  2013-06-18 10,280.3690 1,010.5490 42.9100 21,585.9613      0.0005                           221,479.0000  0.0686  0.0654\n",
      "12          12      1000045  00724F10  2013-08-31  2013-09-17 10,234.1560   995.1190 45.7500 22,957.6245     -0.0004                           294,475.0000  0.1009  0.0789\n",
      "13          13      1000045  00724F10  2014-05-31  2014-06-17 10,372.1990 1,068.2080 64.5400 32,092.3214      0.0011                           -63,207.0000  0.0937  0.0806\n",
      "14          14      1000045  00724F10  2014-08-31  2014-09-16 10,493.6800 1,005.4090 71.9000 35,849.2681      0.0003                          -217,264.0000 -0.0518 -0.0579\n",
      "15          15      1000045  00724F10  2015-05-31  2015-06-16 11,165.3830 1,162.1580 79.0900 39,408.6488      0.0004                            12,164.0000 -0.0244 -0.0270\n",
      "16          16      1000045  00891610  2016-06-30  2016-08-03 17,151.0000 6,302.0000 90.4200 12,477.9600      0.0012                           261,864.0000 -0.0077 -0.0056\n",
      "17          17      1000045  00891610  2016-09-30  2016-11-03 16,580.0000 2,192.0000 90.6900 12,515.2200     -0.0018                           226,834.0000 -0.0114  0.0012\n",
      "18          18      1000045  00891610  2017-03-31  2017-05-01 17,758.0000 2,720.0000 95.5500 13,185.9000     -0.0002                            34,799.0000 -0.0289 -0.0287\n",
      "19          19      1000045  00891610  2017-06-30  2017-08-09 17,564.0000 6,214.0000 90.4900 12,487.6200      0.0005                           -11,423.0000 -0.0040  0.0145\n"
     ],
     "output_type": "stream"
    }
   ],
   "source": [
    "#load data file\n",
    "holding_data=pd.read_csv('Jupyter/holding_data.csv') #save\n",
    "print(holding_data)"
   ],
   "metadata": {
    "collapsed": false,
    "pycharm": {
     "name": "#%%\n",
     "is_executing": false
    }
   }
  }
 ],
 "metadata": {
  "kernelspec": {
   "display_name": "Python 3",
   "language": "python",
   "name": "python3"
  },
  "language_info": {
   "codemirror_mode": {
    "name": "ipython",
    "version": 2
   },
   "file_extension": ".py",
   "mimetype": "text/x-python",
   "name": "python",
   "nbconvert_exporter": "python",
   "pygments_lexer": "ipython2",
   "version": "2.7.6"
  },
  "pycharm": {
   "stem_cell": {
    "cell_type": "raw",
    "source": [],
    "metadata": {
     "collapsed": false
    }
   }
  }
 },
 "nbformat": 4,
 "nbformat_minor": 0
}