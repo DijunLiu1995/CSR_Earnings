{
 "cells": [
  {
   "cell_type": "code",
   "execution_count": 1,
   "metadata": {
    "collapsed": true,
    "pycharm": {
     "is_executing": false
    }
   },
   "outputs": [],
   "source": [
    "import pandas as pd\n",
    "import re\n",
    "import numpy as np\n",
    "import math\n",
    "from datetime import datetime, timedelta\n",
    "import os\n",
    "import time\n",
    "import glob\n",
    "\n",
    "pd.set_option('display.expand_frame_repr', False)\n",
    "#pd.set_option('display.max_colwidth', -1)\n",
    "# Reduce decimal points to 2\n",
    "pd.options.display.float_format = '{:,.4f}'.format"
   ]
  },
  {
   "cell_type": "code",
   "execution_count": 2,
   "outputs": [],
   "source": [
    "#set my desired working directory\n",
    "os.chdir(\"/Users/ariel/Dropbox/PhD/Michael CSR/Analysis\")"
   ],
   "metadata": {
    "collapsed": false,
    "pycharm": {
     "name": "#%%\n",
     "is_executing": false
    }
   }
  },
  {
   "cell_type": "code",
   "execution_count": 8,
   "outputs": [
    {
     "name": "stdout",
     "text": [
      "                Name fund_cusip            Global Category  portfolio_score_date  portfolio_score  crsp_fundno    crsp_portno\n",
      "0  Invesco Charter A   00141310  US Equity Large Cap Blend                201209          51.4100   2,899.0000 1,022,003.0000\n",
      "1  Invesco Charter A   00141310  US Equity Large Cap Blend                201212          50.9000   2,899.0000 1,022,003.0000\n",
      "2  Invesco Charter A   00141310  US Equity Large Cap Blend                201303          51.0100   2,899.0000 1,022,003.0000\n",
      "3  Invesco Charter A   00141310  US Equity Large Cap Blend                201306          51.4400   2,899.0000 1,022,003.0000\n",
      "4  Invesco Charter A   00141310  US Equity Large Cap Blend                201309          49.9600   2,899.0000 1,022,003.0000\n"
     ],
     "output_type": "stream"
    }
   ],
   "source": [
    "#load time series of fund sustanability\n",
    "fund_sust=pd.read_csv('Jupyter/fund_sust.csv')\n",
    "fund_sust=fund_sust.drop(columns=['Unnamed: 0'])\n",
    "print(fund_sust.head())"
   ],
   "metadata": {
    "collapsed": false,
    "pycharm": {
     "name": "#%%\n",
     "is_executing": false
    }
   }
  },
  {
   "cell_type": "code",
   "execution_count": null,
   "outputs": [],
   "source": [
    "#load data file\n",
    "holding_data=pd.read_csv('Jupyter/holding_data.csv') #save\n",
    "print(holding_data.head())"
   ],
   "metadata": {
    "collapsed": false,
    "pycharm": {
     "name": "#%%\n",
     "is_executing": true
    }
   }
  }
 ],
 "metadata": {
  "kernelspec": {
   "display_name": "Python 3",
   "language": "python",
   "name": "python3"
  },
  "language_info": {
   "codemirror_mode": {
    "name": "ipython",
    "version": 2
   },
   "file_extension": ".py",
   "mimetype": "text/x-python",
   "name": "python",
   "nbconvert_exporter": "python",
   "pygments_lexer": "ipython2",
   "version": "2.7.6"
  },
  "pycharm": {
   "stem_cell": {
    "cell_type": "raw",
    "source": [],
    "metadata": {
     "collapsed": false
    }
   }
  }
 },
 "nbformat": 4,
 "nbformat_minor": 0
}