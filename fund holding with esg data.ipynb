{
 "cells": [
  {
   "cell_type": "markdown",
   "metadata": {
    "pycharm": {
     "name": "#%% md\n"
    }
   },
   "source": [
    "I have merged the databases. Below you can find a summary tables about our observations.  <br> <br>\n",
    "I have also attached a sample of how our data looks like. <br><br>"
   ]
  },
  {
   "cell_type": "code",
   "execution_count": 3,
   "metadata": {
    "pycharm": {
     "is_executing": false
    }
   },
   "outputs": [],
   "source": [
    "import pandas as pd\n",
    "import re\n",
    "import numpy as np\n",
    "import math\n",
    "from datetime import datetime, timedelta\n",
    "import os\n",
    "import time\n",
    "import glob\n",
    "\n",
    "pd.set_option('display.expand_frame_repr', False)\n",
    "#pd.set_option('display.max_colwidth', -1)\n",
    "# Reduce decimal points to 2\n",
    "pd.options.display.float_format = '{:,.4f}'.format\n",
    "#set my desired working directory\n",
    "os.chdir(\"/Users/ariel/Dropbox/PhD/Michael CSR/Analysis\")\n",
    "#load data file\n",
    "fund_sust_esg=pd.read_csv(\"Data/CRSP_Morningstar_Matched/fund_holdings_esg_score_2012_2019.csv\")\n",
    "\n",
    "from beautifultable import BeautifulTable\n",
    "\n",
    "def sust_stats_table(df):\n",
    "    h0=[\"\"]\n",
    "    h1=[\"Fund-Quarter-share Observations Overall\",df['crsp_portno'].count()]\n",
    "    h2=['Fund-Quarter-share CSR-Fund Observations overall',df[df['esg_flag']==1]['crsp_portno'].count()]\n",
    "    h3=['Unique Funds Overall',df['crsp_portno'].drop_duplicates().count()]\n",
    "    h4=['Unique CSR-Funds Overall',df[df['esg_flag']==1]['crsp_portno'].drop_duplicates().count()]\n",
    "    h5=['number of fund-quarter-share  observations per year',df.groupby('portfolio_score_year')['crsp_portno'].count()]\n",
    "    h6=['number of csr-fund-quarter-share  observations per year',df[df['esg_flag']==1].groupby('portfolio_score_year')['crsp_portno'].count()]\n",
    "    h7=['number of unique funds per year',df.groupby('portfolio_score_year')['crsp_portno'].nunique().to_frame('count')]\n",
    "    h8=['number of unique csr-funds per year',df[df['esg_flag']==1].groupby('portfolio_score_year')['crsp_portno'].nunique().to_frame('count')]\n",
    "\n",
    "    h0.append(\"\")\n",
    "\n",
    "    table = BeautifulTable()\n",
    "    table.column_headers = h0\n",
    "    table.append_row(h1)\n",
    "    table.append_row(h2)\n",
    "    table.append_row(h3)\n",
    "    table.append_row(h4)\n",
    "    table.append_row(h5)\n",
    "    table.append_row(h6)\n",
    "    table.append_row(h7)\n",
    "    table.append_row(h8)\n",
    "    print(table)\n",
    "\n"
   ]
  },
  {
   "cell_type": "markdown",
   "metadata": {
    "pycharm": {
     "name": "#%% md\n"
    }
   },
   "source": [
    "### Mutual Fund Sustainability observation stat table"
   ]
  },
  {
   "cell_type": "code",
   "execution_count": 6,
   "metadata": {
    "pycharm": {
     "is_executing": false,
     "name": "#%%\n"
    }
   },
   "outputs": [
    {
     "name": "stdout",
     "output_type": "stream",
     "text": [
      "+--------------------------------------------+---------------------------------+\n",
      "|  Fund-Quarter-share Observations Overall   |             154194              |\n",
      "+--------------------------------------------+---------------------------------+\n",
      "| Fund-Quarter-share CSR-Fund Observations o |              20808              |\n",
      "|                   verall                   |                                 |\n",
      "+--------------------------------------------+---------------------------------+\n",
      "|            Unique Funds Overall            |               111               |\n",
      "+--------------------------------------------+---------------------------------+\n",
      "|          Unique CSR-Funds Overall          |               50                |\n",
      "+--------------------------------------------+---------------------------------+\n",
      "| number of fund-quarter-share  observations |      portfolio_score_year       |\n",
      "|                  per year                  |                                 |\n",
      "|                                            |       2,012.0000     9026       |\n",
      "|                                            |       2,013.0000    19190       |\n",
      "|                                            |       2,014.0000    18116       |\n",
      "|                                            |       2,015.0000    19170       |\n",
      "|                                            |       2,016.0000    23682       |\n",
      "|                                            |       2,017.0000    28568       |\n",
      "|                                            |       2,018.0000    28987       |\n",
      "|                                            |       2,019.0000     7455       |\n",
      "|                                            | Name: crsp_portno, dtype: int64 |\n",
      "+--------------------------------------------+---------------------------------+\n",
      "| number of csr-fund-quarter-share  observat |      portfolio_score_year       |\n",
      "|               ions per year                |                                 |\n",
      "|                                            |       2,012.0000     889        |\n",
      "|                                            |       2,013.0000    2573        |\n",
      "|                                            |       2,014.0000    2331        |\n",
      "|                                            |       2,015.0000    2975        |\n",
      "|                                            |       2,016.0000    3798        |\n",
      "|                                            |       2,017.0000    3634        |\n",
      "|                                            |       2,018.0000    3757        |\n",
      "|                                            |       2,019.0000     851        |\n",
      "|                                            | Name: crsp_portno, dtype: int64 |\n",
      "+--------------------------------------------+---------------------------------+\n",
      "|      number of unique funds per year       |                         count   |\n",
      "|                                            |   portfolio_score_year          |\n",
      "|                                            |   2,012.0000               78   |\n",
      "|                                            |   2,013.0000               78   |\n",
      "|                                            |   2,014.0000               78   |\n",
      "|                                            |   2,015.0000               79   |\n",
      "|                                            |   2,016.0000              106   |\n",
      "|                                            |   2,017.0000              106   |\n",
      "|                                            |   2,018.0000              108   |\n",
      "|                                            |   2,019.0000              101   |\n",
      "+--------------------------------------------+---------------------------------+\n",
      "|    number of unique csr-funds per year     |                         count   |\n",
      "|                                            |   portfolio_score_year          |\n",
      "|                                            |   2,012.0000                9   |\n",
      "|                                            |   2,013.0000               19   |\n",
      "|                                            |   2,014.0000               18   |\n",
      "|                                            |   2,015.0000               22   |\n",
      "|                                            |   2,016.0000               27   |\n",
      "|                                            |   2,017.0000               27   |\n",
      "|                                            |   2,018.0000               26   |\n",
      "|                                            |   2,019.0000               18   |\n",
      "+--------------------------------------------+---------------------------------+\n"
     ]
    }
   ],
   "source": [
    "sust_stats_table(fund_sust_esg)"
   ]
  },
  {
   "cell_type": "markdown",
   "metadata": {},
   "source": []
  },
  {
   "cell_type": "code",
   "execution_count": null,
   "metadata": {
    "pycharm": {
     "name": "#%%\n"
    }
   },
   "outputs": [],
   "source": []
  },
  {
   "cell_type": "code",
   "execution_count": null,
   "metadata": {
    "pycharm": {
     "name": "#%%\n"
    }
   },
   "outputs": [],
   "source": []
  },
  {
   "cell_type": "code",
   "execution_count": null,
   "metadata": {
    "pycharm": {
     "name": "#%%\n"
    }
   },
   "outputs": [],
   "source": []
  },
  {
   "cell_type": "markdown",
   "metadata": {},
   "source": []
  },
  {
   "cell_type": "code",
   "execution_count": null,
   "metadata": {
    "pycharm": {
     "is_executing": false,
     "name": "#%%\n"
    }
   },
   "outputs": [],
   "source": []
  },
  {
   "cell_type": "code",
   "execution_count": null,
   "metadata": {
    "pycharm": {
     "is_executing": false,
     "name": "#%%\n"
    }
   },
   "outputs": [],
   "source": []
  },
  {
   "cell_type": "code",
   "execution_count": null,
   "metadata": {},
   "outputs": [],
   "source": []
  }
 ],
 "metadata": {
  "kernelspec": {
   "display_name": "Python 3",
   "language": "python",
   "name": "python3"
  },
  "language_info": {
   "codemirror_mode": {
    "name": "ipython",
    "version": 3
   },
   "file_extension": ".py",
   "mimetype": "text/x-python",
   "name": "python",
   "nbconvert_exporter": "python",
   "pygments_lexer": "ipython3",
   "version": "3.7.4"
  },
  "pycharm": {
   "stem_cell": {
    "cell_type": "raw",
    "metadata": {
     "collapsed": false
    },
    "source": []
   }
  }
 },
 "nbformat": 4,
 "nbformat_minor": 1
}
