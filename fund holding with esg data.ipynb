{
 "cells": [
  {
   "cell_type": "markdown",
   "metadata": {
    "pycharm": {
     "name": "#%% md\n"
    }
   },
   "source": [
    "I have merged the databases. Below you can find a summary tables about our observations.  <br> <br>\n",
    "I have also attached a sample of how our data looks like. <br><br>"
   ]
  },
  {
   "cell_type": "code",
   "execution_count": 1,
   "metadata": {
    "pycharm": {
     "is_executing": false
    }
   },
   "outputs": [],
   "source": [
    "import pandas as pd\n",
    "import re\n",
    "import numpy as np\n",
    "import math\n",
    "from datetime import datetime, timedelta\n",
    "import os\n",
    "import time\n",
    "import glob\n",
    "\n",
    "pd.set_option('display.expand_frame_repr', False)\n",
    "#pd.set_option('display.max_colwidth', -1)\n",
    "# Reduce decimal points to 2\n",
    "pd.options.display.float_format = '{:,.4f}'.format\n",
    "#set my desired working directory\n",
    "os.chdir(\"/Users/ariel/Dropbox/PhD/Michael CSR/Analysis\")\n",
    "#load data file\n",
    "fund_sust_esg=pd.read_csv(\"Data/CRSP_Morningstar_Matched/fund_holdings_esg_score_2012_2019.csv\")\n",
    "\n",
    "from beautifultable import BeautifulTable\n",
    "\n",
    "def sust_stats_table(df):\n",
    "    h0=[\"\"]\n",
    "    h1=[\"Fund-Quarter-share Observations Overall\",df['crsp_portno'].count()]\n",
    "    h2=['Fund-Quarter-share CSR-Fund Observations overall',df[df['esg_flag']==1]['crsp_portno'].count()]\n",
    "    h3=['Unique Funds Overall',df['crsp_portno'].drop_duplicates().count()]\n",
    "    h4=['Unique CSR-Funds Overall',df[df['esg_flag']==1]['crsp_portno'].drop_duplicates().count()]\n",
    "    h5=['number of fund-quarter-share  observations per year',df.groupby('portfolio_score_year')['crsp_portno'].count()]\n",
    "    h6=['number of csr-fund-quarter-share  observations per year',df[df['esg_flag']==1].groupby('portfolio_score_year')['crsp_portno'].count()]\n",
    "    h7=['number of unique funds per year',df.groupby('portfolio_score_year')['crsp_portno'].nunique().to_frame('count')]\n",
    "    h8=['number of unique csr-funds per year',df[df['esg_flag']==1].groupby('portfolio_score_year')['crsp_portno'].nunique().to_frame('count')]\n",
    "\n",
    "    h0.append(\"\")\n",
    "\n",
    "    table = BeautifulTable()\n",
    "    table.column_headers = h0\n",
    "    table.append_row(h1)\n",
    "    table.append_row(h2)\n",
    "    table.append_row(h3)\n",
    "    table.append_row(h4)\n",
    "    table.append_row(h5)\n",
    "    table.append_row(h6)\n",
    "    table.append_row(h7)\n",
    "    table.append_row(h8)\n",
    "    print(table)\n",
    "\n"
   ]
  },
  {
   "cell_type": "markdown",
   "metadata": {
    "pycharm": {
     "name": "#%% md\n"
    }
   },
   "source": [
    "### Mutual Fund Sustainability observation stat table"
   ]
  },
  {
   "cell_type": "code",
   "execution_count": 2,
   "metadata": {
    "pycharm": {
     "is_executing": false,
     "name": "#%%\n"
    }
   },
   "outputs": [
    {
     "name": "stdout",
     "output_type": "stream",
     "text": [
      "+--------------------------------------------+---------------------------------+\n",
      "|  Fund-Quarter-share Observations Overall   |             154194              |\n",
      "+--------------------------------------------+---------------------------------+\n",
      "| Fund-Quarter-share CSR-Fund Observations o |              20808              |\n",
      "|                   verall                   |                                 |\n",
      "+--------------------------------------------+---------------------------------+\n",
      "|            Unique Funds Overall            |               111               |\n",
      "+--------------------------------------------+---------------------------------+\n",
      "|          Unique CSR-Funds Overall          |               50                |\n",
      "+--------------------------------------------+---------------------------------+\n",
      "| number of fund-quarter-share  observations |      portfolio_score_year       |\n",
      "|                  per year                  |                                 |\n",
      "|                                            |       2,012.0000     9026       |\n",
      "|                                            |       2,013.0000    19190       |\n",
      "|                                            |       2,014.0000    18116       |\n",
      "|                                            |       2,015.0000    19170       |\n",
      "|                                            |       2,016.0000    23682       |\n",
      "|                                            |       2,017.0000    28568       |\n",
      "|                                            |       2,018.0000    28987       |\n",
      "|                                            |       2,019.0000     7455       |\n",
      "|                                            | Name: crsp_portno, dtype: int64 |\n",
      "+--------------------------------------------+---------------------------------+\n",
      "| number of csr-fund-quarter-share  observat |      portfolio_score_year       |\n",
      "|               ions per year                |                                 |\n",
      "|                                            |       2,012.0000     889        |\n",
      "|                                            |       2,013.0000    2573        |\n",
      "|                                            |       2,014.0000    2331        |\n",
      "|                                            |       2,015.0000    2975        |\n",
      "|                                            |       2,016.0000    3798        |\n",
      "|                                            |       2,017.0000    3634        |\n",
      "|                                            |       2,018.0000    3757        |\n",
      "|                                            |       2,019.0000     851        |\n",
      "|                                            | Name: crsp_portno, dtype: int64 |\n",
      "+--------------------------------------------+---------------------------------+\n",
      "|      number of unique funds per year       |                         count   |\n",
      "|                                            |   portfolio_score_year          |\n",
      "|                                            |   2,012.0000               78   |\n",
      "|                                            |   2,013.0000               78   |\n",
      "|                                            |   2,014.0000               78   |\n",
      "|                                            |   2,015.0000               79   |\n",
      "|                                            |   2,016.0000              106   |\n",
      "|                                            |   2,017.0000              106   |\n",
      "|                                            |   2,018.0000              108   |\n",
      "|                                            |   2,019.0000              101   |\n",
      "+--------------------------------------------+---------------------------------+\n",
      "|    number of unique csr-funds per year     |                         count   |\n",
      "|                                            |   portfolio_score_year          |\n",
      "|                                            |   2,012.0000                9   |\n",
      "|                                            |   2,013.0000               19   |\n",
      "|                                            |   2,014.0000               18   |\n",
      "|                                            |   2,015.0000               22   |\n",
      "|                                            |   2,016.0000               27   |\n",
      "|                                            |   2,017.0000               27   |\n",
      "|                                            |   2,018.0000               26   |\n",
      "|                                            |   2,019.0000               18   |\n",
      "+--------------------------------------------+---------------------------------+\n"
     ]
    }
   ],
   "source": [
    "sust_stats_table(fund_sust_esg)"
   ]
  },
  {
   "cell_type": "markdown",
   "metadata": {},
   "source": []
  },
  {
   "cell_type": "code",
   "execution_count": 3,
   "metadata": {
    "pycharm": {
     "name": "#%%\n"
    }
   },
   "outputs": [
    {
     "data": {
      "text/html": [
       "<div>\n",
       "<style scoped>\n",
       "    .dataframe tbody tr th:only-of-type {\n",
       "        vertical-align: middle;\n",
       "    }\n",
       "\n",
       "    .dataframe tbody tr th {\n",
       "        vertical-align: top;\n",
       "    }\n",
       "\n",
       "    .dataframe thead th {\n",
       "        text-align: right;\n",
       "    }\n",
       "</style>\n",
       "<table border=\"1\" class=\"dataframe\">\n",
       "  <thead>\n",
       "    <tr style=\"text-align: right;\">\n",
       "      <th></th>\n",
       "      <th>Unnamed: 0</th>\n",
       "      <th>crsp_portno</th>\n",
       "      <th>cusip</th>\n",
       "      <th>FPEDATS</th>\n",
       "      <th>rdq</th>\n",
       "      <th>atq</th>\n",
       "      <th>saleq</th>\n",
       "      <th>prccq</th>\n",
       "      <th>mcap</th>\n",
       "      <th>change_nbr_shares_total_before_e_annc</th>\n",
       "      <th>...</th>\n",
       "      <th>portfolio_score_date</th>\n",
       "      <th>Name</th>\n",
       "      <th>Global Category</th>\n",
       "      <th>portfolio_score</th>\n",
       "      <th>portfolio_score_year</th>\n",
       "      <th>portfolio_score_month</th>\n",
       "      <th>nav_latest</th>\n",
       "      <th>nav_latest_dt</th>\n",
       "      <th>portfolio_score_quarter</th>\n",
       "      <th>esg_flag</th>\n",
       "    </tr>\n",
       "  </thead>\n",
       "  <tbody>\n",
       "    <tr>\n",
       "      <td>0</td>\n",
       "      <td>0</td>\n",
       "      <td>1000045</td>\n",
       "      <td>00101J10</td>\n",
       "      <td>2012-12-31</td>\n",
       "      <td>2013-01-30</td>\n",
       "      <td>9,528.0000</td>\n",
       "      <td>809.0000</td>\n",
       "      <td>46.4900</td>\n",
       "      <td>10,822.0817</td>\n",
       "      <td>1,449,742.0000</td>\n",
       "      <td>...</td>\n",
       "      <td>201209</td>\n",
       "      <td>Invesco Equity and Income R6</td>\n",
       "      <td>Moderate Allocation</td>\n",
       "      <td>47.9300</td>\n",
       "      <td>2,012.0000</td>\n",
       "      <td>9.0000</td>\n",
       "      <td>9.1900</td>\n",
       "      <td>20,121,231.0000</td>\n",
       "      <td>3.0000</td>\n",
       "      <td>0.0000</td>\n",
       "    </tr>\n",
       "    <tr>\n",
       "      <td>1</td>\n",
       "      <td>1</td>\n",
       "      <td>1000045</td>\n",
       "      <td>00101J10</td>\n",
       "      <td>2013-03-31</td>\n",
       "      <td>2013-05-01</td>\n",
       "      <td>9,710.0000</td>\n",
       "      <td>821.0000</td>\n",
       "      <td>48.9400</td>\n",
       "      <td>10,763.9125</td>\n",
       "      <td>-3,048.0000</td>\n",
       "      <td>...</td>\n",
       "      <td>201212</td>\n",
       "      <td>Invesco Equity and Income R6</td>\n",
       "      <td>Moderate Allocation</td>\n",
       "      <td>47.9800</td>\n",
       "      <td>2,012.0000</td>\n",
       "      <td>12.0000</td>\n",
       "      <td>9.1900</td>\n",
       "      <td>20,121,231.0000</td>\n",
       "      <td>4.0000</td>\n",
       "      <td>0.0000</td>\n",
       "    </tr>\n",
       "    <tr>\n",
       "      <td>2</td>\n",
       "      <td>2</td>\n",
       "      <td>1000045</td>\n",
       "      <td>00101J10</td>\n",
       "      <td>2013-06-30</td>\n",
       "      <td>2013-07-31</td>\n",
       "      <td>9,655.0000</td>\n",
       "      <td>833.0000</td>\n",
       "      <td>39.8500</td>\n",
       "      <td>8,471.5122</td>\n",
       "      <td>206,425.0000</td>\n",
       "      <td>...</td>\n",
       "      <td>201303</td>\n",
       "      <td>Invesco Equity and Income R6</td>\n",
       "      <td>Moderate Allocation</td>\n",
       "      <td>47.9400</td>\n",
       "      <td>2,013.0000</td>\n",
       "      <td>3.0000</td>\n",
       "      <td>9.1900</td>\n",
       "      <td>20,121,231.0000</td>\n",
       "      <td>1.0000</td>\n",
       "      <td>0.0000</td>\n",
       "    </tr>\n",
       "    <tr>\n",
       "      <td>3</td>\n",
       "      <td>3</td>\n",
       "      <td>1000045</td>\n",
       "      <td>00101J10</td>\n",
       "      <td>2013-09-30</td>\n",
       "      <td>2013-11-20</td>\n",
       "      <td>9,913.0000</td>\n",
       "      <td>846.0000</td>\n",
       "      <td>40.6600</td>\n",
       "      <td>8,497.1675</td>\n",
       "      <td>621,075.0000</td>\n",
       "      <td>...</td>\n",
       "      <td>201306</td>\n",
       "      <td>Invesco Equity and Income R6</td>\n",
       "      <td>Moderate Allocation</td>\n",
       "      <td>48.0900</td>\n",
       "      <td>2,013.0000</td>\n",
       "      <td>6.0000</td>\n",
       "      <td>9.1900</td>\n",
       "      <td>20,121,231.0000</td>\n",
       "      <td>2.0000</td>\n",
       "      <td>0.0000</td>\n",
       "    </tr>\n",
       "    <tr>\n",
       "      <td>4</td>\n",
       "      <td>4</td>\n",
       "      <td>1000045</td>\n",
       "      <td>00101J10</td>\n",
       "      <td>2013-12-31</td>\n",
       "      <td>2014-01-30</td>\n",
       "      <td>9,875.0000</td>\n",
       "      <td>839.0000</td>\n",
       "      <td>40.4700</td>\n",
       "      <td>7,416.7345</td>\n",
       "      <td>-123,419.0000</td>\n",
       "      <td>...</td>\n",
       "      <td>201309</td>\n",
       "      <td>Invesco Equity and Income R6</td>\n",
       "      <td>Moderate Allocation</td>\n",
       "      <td>47.8800</td>\n",
       "      <td>2,013.0000</td>\n",
       "      <td>9.0000</td>\n",
       "      <td>9.1900</td>\n",
       "      <td>20,121,231.0000</td>\n",
       "      <td>3.0000</td>\n",
       "      <td>0.0000</td>\n",
       "    </tr>\n",
       "  </tbody>\n",
       "</table>\n",
       "<p>5 rows × 25 columns</p>\n",
       "</div>"
      ],
      "text/plain": [
       "   Unnamed: 0  crsp_portno     cusip     FPEDATS         rdq        atq    saleq   prccq        mcap  change_nbr_shares_total_before_e_annc  ...  portfolio_score_date                          Name      Global Category  portfolio_score  portfolio_score_year  portfolio_score_month nav_latest   nav_latest_dt  portfolio_score_quarter  esg_flag\n",
       "0           0      1000045  00101J10  2012-12-31  2013-01-30 9,528.0000 809.0000 46.4900 10,822.0817                         1,449,742.0000  ...                201209  Invesco Equity and Income R6  Moderate Allocation          47.9300            2,012.0000                 9.0000     9.1900 20,121,231.0000                   3.0000    0.0000\n",
       "1           1      1000045  00101J10  2013-03-31  2013-05-01 9,710.0000 821.0000 48.9400 10,763.9125                            -3,048.0000  ...                201212  Invesco Equity and Income R6  Moderate Allocation          47.9800            2,012.0000                12.0000     9.1900 20,121,231.0000                   4.0000    0.0000\n",
       "2           2      1000045  00101J10  2013-06-30  2013-07-31 9,655.0000 833.0000 39.8500  8,471.5122                           206,425.0000  ...                201303  Invesco Equity and Income R6  Moderate Allocation          47.9400            2,013.0000                 3.0000     9.1900 20,121,231.0000                   1.0000    0.0000\n",
       "3           3      1000045  00101J10  2013-09-30  2013-11-20 9,913.0000 846.0000 40.6600  8,497.1675                           621,075.0000  ...                201306  Invesco Equity and Income R6  Moderate Allocation          48.0900            2,013.0000                 6.0000     9.1900 20,121,231.0000                   2.0000    0.0000\n",
       "4           4      1000045  00101J10  2013-12-31  2014-01-30 9,875.0000 839.0000 40.4700  7,416.7345                          -123,419.0000  ...                201309  Invesco Equity and Income R6  Moderate Allocation          47.8800            2,013.0000                 9.0000     9.1900 20,121,231.0000                   3.0000    0.0000\n",
       "\n",
       "[5 rows x 25 columns]"
      ]
     },
     "execution_count": 3,
     "metadata": {},
     "output_type": "execute_result"
    }
   ],
   "source": [
    "fund_sust_esg.head()"
   ]
  },
  {
   "cell_type": "code",
   "execution_count": null,
   "metadata": {
    "pycharm": {
     "name": "#%%\n"
    }
   },
   "outputs": [],
   "source": []
  },
  {
   "cell_type": "code",
   "execution_count": null,
   "metadata": {
    "pycharm": {
     "name": "#%%\n"
    }
   },
   "outputs": [],
   "source": []
  },
  {
   "cell_type": "markdown",
   "metadata": {},
   "source": []
  },
  {
   "cell_type": "code",
   "execution_count": null,
   "metadata": {
    "pycharm": {
     "is_executing": false,
     "name": "#%%\n"
    }
   },
   "outputs": [],
   "source": []
  },
  {
   "cell_type": "code",
   "execution_count": null,
   "metadata": {
    "pycharm": {
     "is_executing": false,
     "name": "#%%\n"
    }
   },
   "outputs": [],
   "source": []
  },
  {
   "cell_type": "code",
   "execution_count": null,
   "metadata": {},
   "outputs": [],
   "source": []
  }
 ],
 "metadata": {
  "kernelspec": {
   "display_name": "Python 3",
   "language": "python",
   "name": "python3"
  },
  "language_info": {
   "codemirror_mode": {
    "name": "ipython",
    "version": 3
   },
   "file_extension": ".py",
   "mimetype": "text/x-python",
   "name": "python",
   "nbconvert_exporter": "python",
   "pygments_lexer": "ipython3",
   "version": "3.7.4"
  },
  "pycharm": {
   "stem_cell": {
    "cell_type": "raw",
    "metadata": {
     "collapsed": false
    },
    "source": []
   }
  }
 },
 "nbformat": 4,
 "nbformat_minor": 1
}
